{
 "cells": [
  {
   "cell_type": "markdown",
   "metadata": {},
   "source": [
    "# **Exercici 1: Anàlisi de logs amb comandes Linux**\n",
    "\n",
    "- Veure contínuament els logs que es van escrivint a un arxiu, també mostra els nous registres en temps real: **tail -f nom_del_fitxer.log**\n",
    "\n",
    "- Cercar una paraula concreta dins d’un arxiu de log: **grep \"paraula_clau\" nom_del_fitxer.log**\n",
    "\n",
    "- Això mostra 5 línies abans i després de cada coincidència: **grep -C 5 \"paraula_clau\" nom_del_fitxer.log**\n"
   ]
  },
  {
   "cell_type": "markdown",
   "metadata": {},
   "source": []
  }
 ],
 "metadata": {
  "language_info": {
   "name": "python"
  }
 },
 "nbformat": 4,
 "nbformat_minor": 2
}
