{
 "cells": [
  {
   "cell_type": "markdown",
   "metadata": {},
   "source": [
    "# **Exercici 4: Creació d’un fitxer CSV**\n",
    "En aquest exercici caldrà generar per exemple un CSV amb les dades que treballareu.\n",
    "RECORDAR que el CSV treballa amb comes.\n",
    "Un cop generat el CSV, caldrà bolcar les dades al JUPYTER i comprovar que es mostren correctament."
   ]
  },
  {
   "cell_type": "code",
   "execution_count": 1,
   "metadata": {},
   "outputs": [],
   "source": [
    "import csv\n",
    "\n",
    "dades = [\n",
    "    ['Nom', 'Nota_M01', 'Nota_M04', 'Nota_M03', 'Nota_M05'],\n",
    "    ['Emili', 7, 9, 5, 8],\n",
    "    ['Mario', 10, 3, 5, 8],\n",
    "    ['Steven', 8, 5, 6, 4],\n",
    "    # Afegeix més registres aquí\n",
    "]\n",
    "\n",
    "with open('dades.csv', 'w', newline='') as fitxer:\n",
    "    writer = csv.writer(fitxer)\n",
    "    writer.writerows(dades)\n"
   ]
  }
 ],
 "metadata": {
  "kernelspec": {
   "display_name": "base",
   "language": "python",
   "name": "python3"
  },
  "language_info": {
   "codemirror_mode": {
    "name": "ipython",
    "version": 3
   },
   "file_extension": ".py",
   "mimetype": "text/x-python",
   "name": "python",
   "nbconvert_exporter": "python",
   "pygments_lexer": "ipython3",
   "version": "3.12.7"
  }
 },
 "nbformat": 4,
 "nbformat_minor": 2
}
