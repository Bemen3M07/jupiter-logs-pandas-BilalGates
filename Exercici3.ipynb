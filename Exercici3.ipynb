{
 "cells": [
  {
   "cell_type": "markdown",
   "metadata": {},
   "source": [
    "# Exercici 3\n",
    "\n",
    "Mitjançant les eines proposades a continuació, voldríem elaborar una petita aplicació que permetés a un treballador de forma senzilla introduir mitjançant un fitxer json, txt csv o similar introduir unes dades que escollim i li elaborem una sèrie de gràfiques.\n",
    "\n",
    "**Abans d’això, caldrà informar-se sobre les següents eines, alguna de les quals potser ja coneixeu.**\n",
    "\n",
    "● Pandas\n",
    "\n",
    "● Jupyter Notebook\n",
    "\n",
    "● reportlab\n",
    "\n",
    "\n",
    "**La idea d'aquest punt és detallar:**\n",
    "\n",
    "● La funcionalitat de cada una de les eines presentades.\n",
    "\n",
    "● Caldrà posar captures de les proves que heu fet i argumentar quines eines i llibreries utilitzareu finalment."
   ]
  },
  {
   "cell_type": "markdown",
   "metadata": {},
   "source": [
    "# Pandas:\n",
    "**Llibreria per al processament de dades. Ideal per manipular grans conjunts d'informació, netejar dades i fer càlculs estadístics.**\n",
    "\n",
    "# Jupyter Notebook:\n",
    "\n",
    "**Entorn interactiu per escriure i executar codi Python. És útil per crear informes iteratius amb dades i gràfics.**\n",
    "\n",
    "# ReportLab:\n",
    "\n",
    "**Llibreria per generar PDFs. Ideal per crear informes finals amb formatació avançada.**"
   ]
  }
 ],
 "metadata": {
  "language_info": {
   "name": "python"
  }
 },
 "nbformat": 4,
 "nbformat_minor": 2
}
