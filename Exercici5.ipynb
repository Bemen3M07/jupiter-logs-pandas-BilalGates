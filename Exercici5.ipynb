{
 "cells": [
  {
   "cell_type": "markdown",
   "metadata": {},
   "source": [
    "# Exercici 5\n",
    "\n",
    "Un cop tractades les dades introduïdes via fitxer caldrà investigar la llibreria que hageu triat i elaborar com a mínim el codi necessari per presentar de forma que tinguin sentit amb l'àmbit del problema una sèrie de dades transformades obtingudes corresponents a, (s’haurà de adequar a les vostres dades però per a que\n",
    "tingueu algun exemple).\n",
    "\n",
    "| Ex. |\n",
    "|-----|\n",
    "| La mitjana de nota final de cada alumne. |\n",
    "| La mitjana de nota final de tots els alumnes en conjunts. |\n",
    "| Percentatges d'aprovats i suspesos. |\n",
    "| Notes més baixes o més altes. |\n",
    "| Algun altre que creieu interesant. |\n",
    "\n",
    "Com a restricció caldrà com a mínim generar cinc resultats coherents amb un procés\n",
    "d’avaluació."
   ]
  },
  {
   "cell_type": "code",
   "execution_count": 1,
   "metadata": {},
   "outputs": [
    {
     "name": "stdout",
     "output_type": "stream",
     "text": [
      "Mitjana global: 6.5\n",
      "Percentatge d'aprovats: 100.0%\n",
      "Nota més alta: 10.0, Nota més baixa: 3.0\n"
     ]
    }
   ],
   "source": [
    "import pandas as pd\n",
    "\n",
    "# Llegir dades\n",
    "df = pd.read_csv('dades.csv')\n",
    "\n",
    "# Mitjana per alumne\n",
    "df['Mitjana'] = df.iloc[:, 1:].mean(axis=1)\n",
    "\n",
    "# Percentatge d'aprovats\n",
    "aprovats = (df['Mitjana'] >= 5).mean() * 100\n",
    "\n",
    "# Notes més alta i baixa\n",
    "nota_max = df.iloc[:, 1:].max().max()\n",
    "nota_min = df.iloc[:, 1:].min().min()\n",
    "\n",
    "print(f\"Mitjana global: {df['Mitjana'].mean()}\")\n",
    "print(f\"Percentatge d'aprovats: {aprovats}%\")\n",
    "print(f\"Nota més alta: {nota_max}, Nota més baixa: {nota_min}\")\n"
   ]
  }
 ],
 "metadata": {
  "kernelspec": {
   "display_name": "base",
   "language": "python",
   "name": "python3"
  },
  "language_info": {
   "codemirror_mode": {
    "name": "ipython",
    "version": 3
   },
   "file_extension": ".py",
   "mimetype": "text/x-python",
   "name": "python",
   "nbconvert_exporter": "python",
   "pygments_lexer": "ipython3",
   "version": "3.12.7"
  }
 },
 "nbformat": 4,
 "nbformat_minor": 2
}
