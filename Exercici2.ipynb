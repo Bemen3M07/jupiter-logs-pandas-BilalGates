{
 "cells": [
  {
   "cell_type": "markdown",
   "metadata": {},
   "source": [
    "1- En aquest exercici recuperarem el bucle d’exemple que vam fer servir a les sessions de teoria, i configurarem el log per què els misstatges d’error (isuperiors) vagin a un arxiu, i els missatges d’info (i superiors) vagin a un altre arxiu, mentre que tots els missatges es mostren a la vegada per pantalla. A\n",
    "més, afegirem un nou missatge d’info a l’aplicació pel que farem servir un logger especial i diferent del que ja hem fet servir, i que tindrà un manegador\n",
    "amb format csv. Fes commit al repositori cada vegada que tinguis resolt i funcionant una d’aquestes coses:\n",
    "\n",
    "\n",
    "• logs d’info a fitxer de logs d’info i logs d’error a fitxer de logs d’error\n",
    "\n",
    "• Afegir, a mes del handler de fitxer per a fitxers info, un handler de pantalla amb nivell info\n",
    "\n",
    "• Afegir un nou logger amb un nou manegador i un nou formatador a CSV, i afegir una línia al programa que generi aquests logs\n",
    "\n",
    "• Pujar al repositori una mostra d’unes 20 linies dels fitxers de logs generats per la vostra aplicació: un d’info, un d’error, i un en format CSV"
   ]
  },
  {
   "cell_type": "code",
   "execution_count": 8,
   "metadata": {},
   "outputs": [
    {
     "name": "stderr",
     "output_type": "stream",
     "text": [
      "2024-11-21 18:38:11 - INFO - Aquest és un missatge d'info.\n",
      "2024-11-21 18:38:11 - ERROR - Aquest és un missatge d'error.\n",
      "2024-11-21 18:38:11 - INFO - Missatge mostrat per la terminal.\n",
      "2024-11-21 18:38:11 - INFO - Missatge mostrat per la terminal.\n"
     ]
    }
   ],
   "source": [
    "import logging\n",
    "\n",
    "# Configuració del logger\n",
    "logger = logging.getLogger(\"my_logger\")\n",
    "logger.setLevel(logging.DEBUG)\n",
    "\n",
    "# Format per incloure la data i hora\n",
    "formatter = logging.Formatter(\n",
    "    \"%(asctime)s - %(levelname)s - %(message)s\", datefmt=\"%Y-%m-%d %H:%M:%S\"\n",
    ")\n",
    "\n",
    "# Handler per a fitxer d'errors\n",
    "error_handler = logging.FileHandler(\"errors.log\")\n",
    "error_handler.setLevel(logging.ERROR)\n",
    "error_handler.setFormatter(formatter)\n",
    "\n",
    "# Handler per a fitxer d'informació\n",
    "info_handler = logging.FileHandler(\"info.log\")\n",
    "info_handler.setLevel(logging.INFO)\n",
    "info_handler.setFormatter(formatter)\n",
    "\n",
    "# Afegir els handlers al logger\n",
    "logger.addHandler(error_handler)\n",
    "logger.addHandler(info_handler)\n",
    "\n",
    "# Missatges d'exemple\n",
    "logger.info(\"Aquest és un missatge d'info.\")\n",
    "logger.error(\"Aquest és un missatge d'error.\")\n",
    "\n",
    "# Handler per a la terminal\n",
    "console_handler = logging.StreamHandler()\n",
    "console_handler.setLevel(logging.INFO)\n",
    "console_handler.setFormatter(formatter)\n",
    "\n",
    "logger.addHandler(console_handler)\n",
    "\n",
    "# Missatge de prova a la terminal\n",
    "logger.info(\"Missatge mostrat per la terminal.\")"
   ]
  },
  {
   "cell_type": "code",
   "execution_count": 9,
   "metadata": {},
   "outputs": [
    {
     "name": "stderr",
     "output_type": "stream",
     "text": [
      "2024-11-21 18:38:21 - INFO - Missatge en format CSV.\n",
      "2024-11-21 18:38:21 - INFO - Missatge en format CSV.\n",
      "2024-11-21 18:38:21 - ERROR - Error en format CSV.\n",
      "2024-11-21 18:38:21 - ERROR - Error en format CSV.\n"
     ]
    }
   ],
   "source": [
    "import csv\n",
    "from logging import Formatter\n",
    "\n",
    "\n",
    "class CSVFormatter(Formatter):\n",
    "    def format(self, record):\n",
    "        # Afegim la data i l'hora al format\n",
    "        return f\"{record.asctime},{record.levelname},{record.message}\"\n",
    "\n",
    "\n",
    "# Configuració del logger\n",
    "import logging\n",
    "\n",
    "logger = logging.getLogger(\"my_logger\")\n",
    "logger.setLevel(logging.DEBUG)\n",
    "\n",
    "# Formatter per CSV amb data i hora\n",
    "csv_formatter = CSVFormatter(\"%(asctime)s - %(message)s\", datefmt=\"%Y-%m-%d %H:%M:%S\")\n",
    "\n",
    "# Handler per a logs CSV\n",
    "csv_handler = logging.FileHandler(\"logs.csv\")\n",
    "csv_handler.setFormatter(csv_formatter)\n",
    "\n",
    "logger.addHandler(csv_handler)\n",
    "\n",
    "# Missatges d'exemple\n",
    "logger.info(\"Missatge en format CSV.\")\n",
    "logger.error(\"Error en format CSV.\")"
   ]
  },
  {
   "cell_type": "markdown",
   "metadata": {},
   "source": [
    "**2- Que creieu que és millor mostrar els logs per exemple a la terminal durantn l'execució del programa o bolcar-los en un fitxer de text?**\n",
    "\n",
    "**En el terminal:**\n",
    "Avantatges: És ideal per a depuració en temps real durant el desenvolupament o la supervisió immediata del sistema.\n",
    "Desavantatges: Els registres es perden un cop acaba l'execució i són difícils d'analitzar posteriorment.\n",
    "\n",
    "**Bolcar-los a un fitxer de text:**\n",
    "Avantatges: Els logs es conserven per a consultes futures, permeten una auditoria i anàlisi detallada i es poden compartir fàcilment amb altres persones.\n",
    "Desavantatges: Requereix eines addicionals per visualitzar i analitzar-los en temps real.\n",
    "\n",
    "Durant el desenvolupament i proves, és millor utilitzar la terminal per obtenir informació immediata.\n",
    "En un entorn de producció o per registre complet, els logs haurien de bolcar-se en fitxers de text amb eines complementàries per monitoritzar-los."
   ]
  },
  {
   "cell_type": "markdown",
   "metadata": {},
   "source": [
    "**3- Omple la següent taula amb expmple, avantantges, i desavantatges de les següents maneres de fer logs:**"
   ]
  },
  {
   "cell_type": "markdown",
   "metadata": {},
   "source": [
    "| **Mètode**                              | **Exemple**                                                                                               | **Avantatges**                                                                                                              | **Desavantatges**                                                                                      |\n",
    "|-----------------------------------------|----------------------------------------------------------------------------------------------------------|----------------------------------------------------------------------------------------------------------------------------|---------------------------------------------------------------------------------------------------------|\n",
    "| Configuració per defecte del mòdul `logging` | `import logging; logging.basicConfig(level=logging.INFO)`                                                 | Configuració ràpida i senzilla. Ideal per a scripts senzills.                                                              | Difícil d'escalar en aplicacions grans. Opcions limitades sense parametritzacions.                      |\n",
    "| Instanciar un objecte `logger` i parametritzar-lo des del programa | `logger = logging.getLogger('my_logger'); logger.addHandler(...)`                                         | Permet personalitzar el comportament, nivells i *handlers*. Escalable en projectes grans.                                  | Configuració més complexa i detallada. Pot resultar redundant per a scripts simples.                   |\n",
    "| Instanciar un objecte `logger` a partir d’una configuració emmagatzemada a fitxer | `logging.config.fileConfig('logging.conf')`                                                              | Separa la configuració del codi, fàcil de modificar sense tocar el codi. Ideal per equips i sistemes amb múltiples entorns. | Requereix un fitxer de configuració addicional i una estructura ben definida. Pot complicar depuracions.|\n"
   ]
  },
  {
   "cell_type": "markdown",
   "metadata": {},
   "source": [
    "**4- Cerca llibreries de logs en altres llenguatjes al menys 2, i identifica cóm resolen les següents característiques típiques d’un sistema de logging. Omple la següent taula, i inclou-la al read-me del repositori:**\n"
   ]
  },
  {
   "cell_type": "markdown",
   "metadata": {},
   "source": [
    "| **Característica**          | **Llenguatge 1: Java**          | **Llenguatge 2: JavaScript**            |\n",
    "|-----------------------------|---------------------------------|-----------------------------------------|\n",
    "| **Llenguatge**              | Java                            | JavaScript                              |\n",
    "| **Nom de la llibreria**     | Log4j                          | Winston                                 |\n",
    "| **És nativa del llenguatge?** | No                             | No                                      |\n",
    "| **URL per descarregar-se la llibreria** | [Log4j](https://logging.apache.org/log4j/2.x/) | [Winston](https://github.com/winstonjs/winston) |\n",
    "| **Inicialització de l'objecte de logger** | `Logger logger = LogManager.getLogger(ClassName.class);` | `const logger = winston.createLogger({ ... });` |\n",
    "| **Nivells de log disponibles** | TRACE, DEBUG, INFO, WARN, ERROR, FATAL | error, warn, info, http, verbose, debug, silly |\n",
    "| **Mètode per fer log**      | `logger.info(\"Missatge\");`      | `logger.info(\"Missatge\");`              |\n",
    "| **Tipus de manegadors (pantalla, fitxer…)** | Console, File, RollingFile             | Console, File, HTTP                     |\n",
    "| **Identificar els seus noms a l'API** | `ConsoleAppender`, `FileAppender`      | `transports.Console`, `transports.File` |\n",
    "| **Opcions de format**       | Patrons personalitzats amb `%d`, `%p`, `%m` | Funció `format` per definir formatadors amb `combine`, `timestamp`, `printf`. |\n"
   ]
  }
 ],
 "metadata": {
  "kernelspec": {
   "display_name": "base",
   "language": "python",
   "name": "python3"
  },
  "language_info": {
   "codemirror_mode": {
    "name": "ipython",
    "version": 3
   },
   "file_extension": ".py",
   "mimetype": "text/x-python",
   "name": "python",
   "nbconvert_exporter": "python",
   "pygments_lexer": "ipython3",
   "version": "3.12.7"
  }
 },
 "nbformat": 4,
 "nbformat_minor": 2
}
