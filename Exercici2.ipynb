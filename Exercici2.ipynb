{
 "cells": [
  {
   "cell_type": "code",
   "execution_count": 4,
   "metadata": {},
   "outputs": [
    {
     "name": "stderr",
     "output_type": "stream",
     "text": [
      "2024-11-21 17:28:10 - INFO - Missatge mostrat per la terminal.\n"
     ]
    }
   ],
   "source": [
    "import logging\n",
    "\n",
    "# Configuració del logger\n",
    "logger = logging.getLogger(\"my_logger\")\n",
    "logger.setLevel(logging.DEBUG)\n",
    "\n",
    "# Format per incloure la data i hora\n",
    "formatter = logging.Formatter(\n",
    "    \"%(asctime)s - %(levelname)s - %(message)s\", datefmt=\"%Y-%m-%d %H:%M:%S\"\n",
    ")\n",
    "\n",
    "# Handler per a fitxer d'errors\n",
    "error_handler = logging.FileHandler(\"errors.log\")\n",
    "error_handler.setLevel(logging.ERROR)\n",
    "error_handler.setFormatter(formatter)\n",
    "\n",
    "# Handler per a fitxer d'informació\n",
    "info_handler = logging.FileHandler(\"info.log\")\n",
    "info_handler.setLevel(logging.INFO)\n",
    "info_handler.setFormatter(formatter)\n",
    "\n",
    "# Afegir els handlers al logger\n",
    "logger.addHandler(error_handler)\n",
    "logger.addHandler(info_handler)\n",
    "\n",
    "# Missatges d'exemple\n",
    "logger.info(\"Aquest és un missatge d'info.\")\n",
    "logger.error(\"Aquest és un missatge d'error.\")\n",
    "\n",
    "# Handler per a la terminal\n",
    "console_handler = logging.StreamHandler()\n",
    "console_handler.setLevel(logging.INFO)\n",
    "console_handler.setFormatter(formatter)\n",
    "\n",
    "logger.addHandler(console_handler)\n",
    "\n",
    "# Missatge de prova a la terminal\n",
    "logger.info(\"Missatge mostrat per la terminal.\")"
   ]
  },
  {
   "cell_type": "code",
   "execution_count": 5,
   "metadata": {},
   "outputs": [
    {
     "name": "stderr",
     "output_type": "stream",
     "text": [
      "2024-11-21 17:28:18 - INFO - Missatge en format CSV.\n",
      "2024-11-21 17:28:18 - ERROR - Error en format CSV.\n"
     ]
    }
   ],
   "source": [
    "import csv\n",
    "from logging import Formatter\n",
    "\n",
    "\n",
    "class CSVFormatter(Formatter):\n",
    "    def format(self, record):\n",
    "        return f\"{record.levelname},{record.message}\"\n",
    "\n",
    "\n",
    "# Handler en format CSV\n",
    "csv_handler = logging.FileHandler(\"logs.csv\")\n",
    "csv_handler.setFormatter(CSVFormatter())\n",
    "logger.addHandler(csv_handler)\n",
    "\n",
    "logger.info(\"Missatge en format CSV.\")\n",
    "logger.error(\"Error en format CSV.\")"
   ]
  }
 ],
 "metadata": {
  "kernelspec": {
   "display_name": "base",
   "language": "python",
   "name": "python3"
  },
  "language_info": {
   "codemirror_mode": {
    "name": "ipython",
    "version": 3
   },
   "file_extension": ".py",
   "mimetype": "text/x-python",
   "name": "python",
   "nbconvert_exporter": "python",
   "pygments_lexer": "ipython3",
   "version": "3.12.7"
  }
 },
 "nbformat": 4,
 "nbformat_minor": 2
}
