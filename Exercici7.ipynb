{
 "cells": [
  {
   "cell_type": "markdown",
   "metadata": {},
   "source": [
    "# Exercici 7\n",
    "\n",
    "Caldrà fer un informe de les següents parts de la pràctica 5."
   ]
  },
  {
   "cell_type": "markdown",
   "metadata": {},
   "source": [
    "**1- Un informe de la part de logging amb el codi que s’ha utilitzat i els exemples d’utilització i resultats.**\n",
    "\n",
    "\n",
    "Explicació del codi utilitzat per configurar i gestionar els logs.\n",
    "\n",
    "Exemple dels resultats generats pels diferents handlers (fitxers d'error, informació, CSV i terminal).\n",
    "\n",
    "Comparativa dels avantatges i desavantatges d'utilitzar logging a la terminal vs. fitxers."
   ]
  },
  {
   "cell_type": "markdown",
   "metadata": {},
   "source": [
    "**2- Un informe de la part del tractament de dades, que s’expliqui cada part que s’ha utilitzat així com les gràfiques que es mostren.**\n",
    "\n",
    "Lectura de dades d’un fitxer i posteriors càlculs realitzats (mitjanes, percentatges d’aprovats, etc.).\n",
    "\n",
    "Presentació de resultats.\n",
    "\n",
    "Gràfics generats per representar les dades."
   ]
  }
 ],
 "metadata": {
  "kernelspec": {
   "display_name": "base",
   "language": "python",
   "name": "python3"
  },
  "language_info": {
   "codemirror_mode": {
    "name": "ipython",
    "version": 3
   },
   "file_extension": ".py",
   "mimetype": "text/x-python",
   "name": "python",
   "nbconvert_exporter": "python",
   "pygments_lexer": "ipython3",
   "version": "3.12.7"
  }
 },
 "nbformat": 4,
 "nbformat_minor": 2
}
