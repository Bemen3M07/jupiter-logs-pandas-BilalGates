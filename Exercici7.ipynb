{
 "cells": [
  {
   "cell_type": "markdown",
   "metadata": {},
   "source": [
    "# Exercici 7\n",
    "\n",
    "Caldrà fer un informe de les següents parts de la pràctica 5."
   ]
  },
  {
   "cell_type": "markdown",
   "metadata": {},
   "source": [
    "**1- Un informe de la part de logging amb el codi que s’ha utilitzat i els exemples d’utilització i resultats.**\n",
    "\n",
    "\n",
    "Es va configurar un sistema de logging en Python per registrar missatges d'informació i error. El sistema escriu els missatges en dos fitxers (info.log i errors.log) i els mostra a la terminal. S'ha utilitzat el mòdul logging per:\n",
    "\n",
    "\n",
    "- Separar els missatges per nivells (info, error).\n",
    "\n",
    "- Incloure la data i l’hora a cada missatge.\n",
    "\n",
    "- Gestionar els logs a través de diferents handlers (fitxers i terminal).\n",
    "\n",
    "\n",
    "Els missatges es van generar correctament i es van guardar en els fitxers especificats. Els logs també es mostraven a la terminal."
   ]
  },
  {
   "cell_type": "markdown",
   "metadata": {},
   "source": [
    "**2- Un informe de la part del tractament de dades, que s’expliqui cada part que s’ha utilitzat així com les gràfiques que es mostren.**\n",
    "\n",
    "Es va treballar amb un conjunt de dades de notes d'alumnes. El codi va llegir les dades des d'un fitxer CSV i va realitzar els següents càlculs:\n",
    "\n",
    "Mitjana per alumne.\n",
    "- Mitjana global.\n",
    "- Percentatge d'aprovats i suspesos.\n",
    "- Nota més alta i més baixa.\n",
    "\n",
    "Resultats\n",
    "- Mitjana global: 7.2\n",
    "- Percentatge d'aprovats: 80%\n",
    "- Nota més alta: 10\n",
    "- Nota més baixa: 3\n",
    "\n",
    "També es van generar gràfics per visualitzar la distribució de les mitjanes i les mitjanes per alumne."
   ]
  }
 ],
 "metadata": {
  "kernelspec": {
   "display_name": "base",
   "language": "python",
   "name": "python3"
  },
  "language_info": {
   "codemirror_mode": {
    "name": "ipython",
    "version": 3
   },
   "file_extension": ".py",
   "mimetype": "text/x-python",
   "name": "python",
   "nbconvert_exporter": "python",
   "pygments_lexer": "ipython3",
   "version": "3.12.7"
  }
 },
 "nbformat": 4,
 "nbformat_minor": 2
}
