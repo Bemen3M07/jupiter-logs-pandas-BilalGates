{
 "cells": [
  {
   "cell_type": "markdown",
   "metadata": {},
   "source": [
    "# Exercici 7\n",
    "\n",
    "Caldrà fer un informe de les següents parts de la pràctica 5.\n",
    "\n",
    "1- Un informe de la part de logging amb el codi que s’ha utilitzat i els exemples d’utilització i resultats.\n",
    "<!--  -->\n",
    "2- Un informe de la part del tractament de dades, que s’expliqui cada part que s’ha utilitzat així com les gràfiques que es mostren."
   ]
  },
  {
   "cell_type": "code",
   "execution_count": null,
   "metadata": {
    "vscode": {
     "languageId": "plaintext"
    }
   },
   "outputs": [],
   "source": [
    "from reportlab.lib.pagesizes import letter\n",
    "from reportlab.pdfgen import canvas\n",
    "\n",
    "c = canvas.Canvas(\"informe_final.pdf\", pagesize=letter)\n",
    "c.drawString(100, 750, \"Informe Final\")\n",
    "c.save()\n"
   ]
  }
 ],
 "metadata": {
  "language_info": {
   "name": "python"
  }
 },
 "nbformat": 4,
 "nbformat_minor": 2
}
