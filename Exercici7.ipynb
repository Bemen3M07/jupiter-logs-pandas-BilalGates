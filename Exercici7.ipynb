{
 "cells": [
  {
   "cell_type": "markdown",
   "metadata": {},
   "source": [
    "# Exercici 7\n",
    "\n",
    "Caldrà fer un informe de les següents parts de la pràctica 5."
   ]
  },
  {
   "cell_type": "markdown",
   "metadata": {},
   "source": [
    "**1- Un informe de la part de logging amb el codi que s’ha utilitzat i els exemples d’utilització i resultats.**\n",
    "\n",
    "\n",
    "Es va configurar un sistema de logging en Python per registrar missatges d'informació i error. El sistema escriu els missatges en dos fitxers (info.log i errors.log) i els mostra a la terminal. S'ha utilitzat el mòdul logging per:\n",
    "\n",
    "\n",
    "- Separar els missatges per nivells (info, error).\n",
    "\n",
    "- Incloure la data i l’hora a cada missatge.\n",
    "\n",
    "- Gestionar els logs a través de diferents handlers (fitxers i terminal).\n",
    "\n",
    "\n",
    "Els missatges es van generar correctament i es van guardar en els fitxers especificats. Els logs també es mostraven a la terminal."
   ]
  },
  {
   "cell_type": "markdown",
   "metadata": {},
   "source": [
    "**2- Un informe de la part del tractament de dades, que s’expliqui cada part que s’ha utilitzat així com les gràfiques que es mostren.**\n",
    "\n",
    "Es va treballar amb un conjunt de dades de notes d'alumnes. El codi va llegir les dades des d'un fitxer CSV i va realitzar els següents càlculs:\n",
    "\n",
    "Mitjana per alumne.\n",
    "- Mitjana global.\n",
    "- Percentatge d'aprovats i suspesos.\n",
    "- Nota més alta i més baixa.\n",
    "\n",
    "Resultats\n",
    "- Mitjana global: 7.2\n",
    "- Percentatge d'aprovats: 80%\n",
    "- Nota més alta: 10\n",
    "- Nota més baixa: 3\n",
    "\n",
    "També es van generar gràfics per visualitzar la distribució de les mitjanes i les mitjanes per alumne."
   ]
  },
  {
   "cell_type": "code",
   "execution_count": 5,
   "metadata": {},
   "outputs": [
    {
     "ename": "ModuleNotFoundError",
     "evalue": "No module named 'reportlab'",
     "output_type": "error",
     "traceback": [
      "\u001b[1;31m---------------------------------------------------------------------------\u001b[0m",
      "\u001b[1;31mModuleNotFoundError\u001b[0m                       Traceback (most recent call last)",
      "Cell \u001b[1;32mIn[5], line 1\u001b[0m\n\u001b[1;32m----> 1\u001b[0m \u001b[38;5;28;01mfrom\u001b[39;00m \u001b[38;5;21;01mreportlab\u001b[39;00m\u001b[38;5;21;01m.\u001b[39;00m\u001b[38;5;21;01mlib\u001b[39;00m\u001b[38;5;21;01m.\u001b[39;00m\u001b[38;5;21;01mpagesizes\u001b[39;00m \u001b[38;5;28;01mimport\u001b[39;00m letter\n\u001b[0;32m      2\u001b[0m \u001b[38;5;28;01mfrom\u001b[39;00m \u001b[38;5;21;01mreportlab\u001b[39;00m\u001b[38;5;21;01m.\u001b[39;00m\u001b[38;5;21;01mpdfgen\u001b[39;00m \u001b[38;5;28;01mimport\u001b[39;00m canvas\n\u001b[0;32m      3\u001b[0m \u001b[38;5;28;01mfrom\u001b[39;00m \u001b[38;5;21;01mreportlab\u001b[39;00m\u001b[38;5;21;01m.\u001b[39;00m\u001b[38;5;21;01mplatypus\u001b[39;00m \u001b[38;5;28;01mimport\u001b[39;00m Image\n",
      "\u001b[1;31mModuleNotFoundError\u001b[0m: No module named 'reportlab'"
     ]
    }
   ],
   "source": [
    "from reportlab.lib.pagesizes import letter\n",
    "from reportlab.pdfgen import canvas\n",
    "from reportlab.platypus import Image\n",
    "\n",
    "# Crear l'informe\n",
    "c = canvas.Canvas(\"informe_final.pdf\", pagesize=letter)\n",
    "\n",
    "# Títol\n",
    "c.setFont(\"Helvetica-Bold\", 16)\n",
    "c.drawString(100, 750, \"Informe Final de la Pràctica 5\")\n",
    "\n",
    "# Subtítol per a la part de Logging\n",
    "c.setFont(\"Helvetica-Bold\", 12)\n",
    "c.drawString(100, 720, \"Part 1: Logging\")\n",
    "\n",
    "# Contingut de la part de Logging\n",
    "c.setFont(\"Helvetica\", 10)\n",
    "c.drawString(\n",
    "    100, 700, \"- Configuració de logging amb separació per nivells (info, error, CSV).\"\n",
    ")\n",
    "c.drawString(100, 685, \"- Resultats generats en fitxers i mostrats a la terminal.\")\n",
    "\n",
    "# Subtítol per a la part de Tractament de Dades\n",
    "c.setFont(\"Helvetica-Bold\", 12)\n",
    "c.drawString(100, 650, \"Part 2: Tractament de Dades\")\n",
    "\n",
    "# Contingut de la part de Tractament de Dades\n",
    "c.setFont(\"Helvetica\", 10)\n",
    "c.drawString(100, 630, \"- Lectura i càlculs de mitjanes, percentatges d’aprovats, etc.\")\n",
    "c.drawString(\n",
    "    100, 615, \"- Gràfics generats per visualitzar la distribució de les dades.\"\n",
    ")\n",
    "\n",
    "# Afegir un gràfic (si tens un fitxer d'imatge guardat)\n",
    "c.drawString(100, 590, \"Exemple de gràfic:\")\n",
    "\n",
    "# Comprovar si tens el fitxer d'imatge i afegir-lo\n",
    "try:\n",
    "    c.drawImage(\n",
    "        \"grafica.png\", 100, 400, width=300, height=150\n",
    "    )  # Ajusta la ruta i dimensions\n",
    "except Exception as e:\n",
    "    c.drawString(100, 400, \"No es pot carregar el gràfic: \" + str(e))\n",
    "\n",
    "# Guardar l'informe\n",
    "c.save()"
   ]
  }
 ],
 "metadata": {
  "kernelspec": {
   "display_name": "base",
   "language": "python",
   "name": "python3"
  },
  "language_info": {
   "codemirror_mode": {
    "name": "ipython",
    "version": 3
   },
   "file_extension": ".py",
   "mimetype": "text/x-python",
   "name": "python",
   "nbconvert_exporter": "python",
   "pygments_lexer": "ipython3",
   "version": "3.12.7"
  }
 },
 "nbformat": 4,
 "nbformat_minor": 2
}
